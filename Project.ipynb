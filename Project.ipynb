{
 "cells": [
  {
   "cell_type": "code",
   "execution_count": null,
   "id": "77ca72d0-96a8-4781-906c-ec7f3a152cad",
   "metadata": {},
   "outputs": [
    {
     "name": "stdout",
     "output_type": "stream",
     "text": [
      "\n",
      "1. Register\n",
      "2. Login\n",
      "3. Exit\n"
     ]
    },
    {
     "name": "stdin",
     "output_type": "stream",
     "text": [
      "Select an option:  test\n"
     ]
    },
    {
     "name": "stdout",
     "output_type": "stream",
     "text": [
      "\n",
      "1. Register\n",
      "2. Login\n",
      "3. Exit\n"
     ]
    },
    {
     "name": "stdin",
     "output_type": "stream",
     "text": [
      "Select an option:  1\n",
      "Enter a username:  test\n",
      "Enter a password:  test\n"
     ]
    },
    {
     "name": "stdout",
     "output_type": "stream",
     "text": [
      "User registered successfully!\n",
      "\n",
      "1. Register\n",
      "2. Login\n",
      "3. Exit\n"
     ]
    },
    {
     "name": "stdin",
     "output_type": "stream",
     "text": [
      "Select an option:  2\n",
      "Enter your username:  test\n",
      "Enter your password:  test\n"
     ]
    },
    {
     "name": "stdout",
     "output_type": "stream",
     "text": [
      "Login successful!\n",
      "\n",
      "1. Add Task\n",
      "2. View Tasks\n",
      "3. Mark Completed\n",
      "4. Delete Task\n",
      "5. Logout\n"
     ]
    },
    {
     "name": "stdin",
     "output_type": "stream",
     "text": [
      "Choose an option:  1\n",
      "Enter task description:  task 1\n"
     ]
    },
    {
     "name": "stdout",
     "output_type": "stream",
     "text": [
      "Task added successfully!\n",
      "\n",
      "1. Add Task\n",
      "2. View Tasks\n",
      "3. Mark Completed\n",
      "4. Delete Task\n",
      "5. Logout\n"
     ]
    },
    {
     "name": "stdin",
     "output_type": "stream",
     "text": [
      "Choose an option:  2\n"
     ]
    },
    {
     "name": "stdout",
     "output_type": "stream",
     "text": [
      "\n",
      "Your Tasks:\n",
      "ID: 1, Description: task 1, Status: Pending\n",
      "\n",
      "1. Add Task\n",
      "2. View Tasks\n",
      "3. Mark Completed\n",
      "4. Delete Task\n",
      "5. Logout\n"
     ]
    },
    {
     "name": "stdin",
     "output_type": "stream",
     "text": [
      "Choose an option:  3\n"
     ]
    },
    {
     "name": "stdout",
     "output_type": "stream",
     "text": [
      "\n",
      "Your Tasks:\n",
      "ID: 1, Description: task 1, Status: Pending\n"
     ]
    },
    {
     "name": "stdin",
     "output_type": "stream",
     "text": [
      "Enter task ID to mark as completed:  1\n"
     ]
    },
    {
     "name": "stdout",
     "output_type": "stream",
     "text": [
      "Task marked as completed.\n",
      "\n",
      "1. Add Task\n",
      "2. View Tasks\n",
      "3. Mark Completed\n",
      "4. Delete Task\n",
      "5. Logout\n"
     ]
    },
    {
     "name": "stdin",
     "output_type": "stream",
     "text": [
      "Choose an option:  4\n"
     ]
    },
    {
     "name": "stdout",
     "output_type": "stream",
     "text": [
      "\n",
      "Your Tasks:\n",
      "ID: 1, Description: task 1, Status: Completed\n"
     ]
    },
    {
     "name": "stdin",
     "output_type": "stream",
     "text": [
      "Enter task ID to delete:  1\n"
     ]
    },
    {
     "name": "stdout",
     "output_type": "stream",
     "text": [
      "Task deleted.\n",
      "\n",
      "1. Add Task\n",
      "2. View Tasks\n",
      "3. Mark Completed\n",
      "4. Delete Task\n",
      "5. Logout\n"
     ]
    },
    {
     "name": "stdin",
     "output_type": "stream",
     "text": [
      "Choose an option:  5\n"
     ]
    },
    {
     "name": "stdout",
     "output_type": "stream",
     "text": [
      "\n",
      "1. Register\n",
      "2. Login\n",
      "3. Exit\n"
     ]
    }
   ],
   "source": [
    "users_file = \"users.txt\"\n",
    "tasks_file = \"tasks.txt\"\n",
    "\n",
    "# User Registration\n",
    "def register():\n",
    "    username = input(\"Enter a username: \")\n",
    "    password = input(\"Enter a password: \")\n",
    "\n",
    "    try:\n",
    "        file = open(users_file, \"r\")\n",
    "        for line in file:\n",
    "            if username == line.strip().split(\",\")[0]:\n",
    "                print(\"Username already exists.\")\n",
    "                file.close()\n",
    "                return\n",
    "        file.close()\n",
    "    except FileNotFoundError:\n",
    "        pass  # File doesn't exist yet, so no users are registered\n",
    "\n",
    "    file = open(users_file, \"a\")\n",
    "    file.write(f\"{username},{password}\\n\")\n",
    "    file.close()\n",
    "    print(\"User registered successfully!\")\n",
    "\n",
    "\n",
    "# User Login\n",
    "def login():\n",
    "    username = input(\"Enter your username: \")\n",
    "    password = input(\"Enter your password: \")\n",
    "\n",
    "    try:\n",
    "        file = open(users_file, \"r\")\n",
    "        for line in file:\n",
    "            u, p = line.strip().split(\",\")\n",
    "            if u == username and p == password:\n",
    "                print(\"Login successful!\")\n",
    "                file.close()\n",
    "                return username\n",
    "        file.close()\n",
    "    except FileNotFoundError:\n",
    "        print(\"No users registered yet.\")\n",
    "        return None\n",
    "\n",
    "    print(\"Invalid credentials.\")\n",
    "    return None\n",
    "\n",
    "\n",
    "# Add Task\n",
    "def add_task(username):\n",
    "    description = input(\"Enter task description: \")\n",
    "    task_id = \"1\"\n",
    "\n",
    "    try:\n",
    "        file = open(tasks_file, \"r\")\n",
    "        task_id = str(len(file.readlines()) + 1)\n",
    "        file.close()\n",
    "    except FileNotFoundError:\n",
    "        pass  # No tasks yet, so start from 1\n",
    "\n",
    "    file = open(tasks_file, \"a\")\n",
    "    file.write(f\"{username},{task_id},{description},Pending\\n\")\n",
    "    file.close()\n",
    "    print(\"Task added successfully!\")\n",
    "\n",
    "\n",
    "# View Tasks\n",
    "def view_tasks(username):\n",
    "    print(\"\\nYour Tasks:\")\n",
    "    try:\n",
    "        file = open(tasks_file, \"r\")\n",
    "        for line in file:\n",
    "            user, task_id, desc, status = line.strip().split(\",\")\n",
    "            if user == username:\n",
    "                print(f\"ID: {task_id}, Description: {desc}, Status: {status}\")\n",
    "        file.close()\n",
    "    except FileNotFoundError:\n",
    "        print(\"No tasks found.\")\n",
    "\n",
    "\n",
    "# Mark Task Completed\n",
    "def mark_completed(username):\n",
    "    view_tasks(username)\n",
    "    task_id = input(\"Enter task ID to mark as completed: \")\n",
    "    lines = []\n",
    "\n",
    "    try:\n",
    "        file = open(tasks_file, \"r\")\n",
    "        for line in file:\n",
    "            user, tid, desc, status = line.strip().split(\",\")\n",
    "            if user == username and tid == task_id:\n",
    "                lines.append(f\"{user},{tid},{desc},Completed\\n\")\n",
    "            else:\n",
    "                lines.append(line)\n",
    "        file.close()\n",
    "\n",
    "        file = open(tasks_file, \"w\")\n",
    "        file.writelines(lines)\n",
    "        file.close()\n",
    "        print(\"Task marked as completed.\")\n",
    "    except FileNotFoundError:\n",
    "        print(\"No tasks to update.\")\n",
    "\n",
    "\n",
    "# Delete Task\n",
    "def delete_task(username):\n",
    "    view_tasks(username)\n",
    "    task_id = input(\"Enter task ID to delete: \")\n",
    "    lines = []\n",
    "\n",
    "    try:\n",
    "        file = open(tasks_file, \"r\")\n",
    "        for line in file:\n",
    "            user, tid, desc, status = line.strip().split(\",\")\n",
    "            if not (user == username and tid == task_id):\n",
    "                lines.append(line)\n",
    "        file.close()\n",
    "\n",
    "        file = open(tasks_file, \"w\")\n",
    "        file.writelines(lines)\n",
    "        file.close()\n",
    "        print(\"Task deleted.\")\n",
    "    except FileNotFoundError:\n",
    "        print(\"No tasks to delete.\")\n",
    "\n",
    "\n",
    "# Main Menu\n",
    "def main():\n",
    "    while True:\n",
    "        print(\"\\n1. Register\\n2. Login\\n3. Exit\")\n",
    "        choice = input(\"Select an option: \")\n",
    "\n",
    "        if choice == \"1\":\n",
    "            register()\n",
    "        elif choice == \"2\":\n",
    "            user = login()\n",
    "            if user:\n",
    "                while True:\n",
    "                    print(\"\\n1. Add Task\\n2. View Tasks\\n3. Mark Completed\\n4. Delete Task\\n5. Logout\")\n",
    "                    action = input(\"Choose an option: \")\n",
    "                    if action == \"1\":\n",
    "                        add_task(user)\n",
    "                    elif action == \"2\":\n",
    "                        view_tasks(user)\n",
    "                    elif action == \"3\":\n",
    "                        mark_completed(user)\n",
    "                    elif action == \"4\":\n",
    "                        delete_task(user)\n",
    "                    elif action == \"5\":\n",
    "                        break\n",
    "        elif choice == \"3\":\n",
    "            break\n",
    "\n",
    "\n",
    "if __name__ == \"__main__\":\n",
    "    main()\n",
    "    "
   ]
  },
  {
   "cell_type": "code",
   "execution_count": null,
   "id": "0f8999e5-b281-4a5f-8ff3-aaf17288be57",
   "metadata": {},
   "outputs": [],
   "source": []
  }
 ],
 "metadata": {
  "kernelspec": {
   "display_name": "Python [conda env:base] *",
   "language": "python",
   "name": "conda-base-py"
  },
  "language_info": {
   "codemirror_mode": {
    "name": "ipython",
    "version": 3
   },
   "file_extension": ".py",
   "mimetype": "text/x-python",
   "name": "python",
   "nbconvert_exporter": "python",
   "pygments_lexer": "ipython3",
   "version": "3.13.5"
  }
 },
 "nbformat": 4,
 "nbformat_minor": 5
}
